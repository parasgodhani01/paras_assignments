{
 "cells": [
  {
   "cell_type": "markdown",
   "id": "341cb1ec",
   "metadata": {},
   "source": [
    "### 1) Write a Python program to check if a number is positive, negative or zero."
   ]
  },
  {
   "cell_type": "code",
   "execution_count": 24,
   "id": "6dc07b3e",
   "metadata": {},
   "outputs": [
    {
     "name": "stdout",
     "output_type": "stream",
     "text": [
      "Enter Your Number : 5\n",
      "Your Number is Positive\n"
     ]
    }
   ],
   "source": [
    "number = float(input(\"Enter Your Number : \"))\n",
    "if number == 0:\n",
    "    print(\"Your Number is Zero.\")\n",
    "elif number >0:\n",
    "    print(\"Your Number is Positive\")\n",
    "else:\n",
    "    print(\"Your Number is Negative\")"
   ]
  },
  {
   "cell_type": "markdown",
   "id": "6a402f7d",
   "metadata": {},
   "source": [
    "### 2) Write a Python program to get the Factorial number of given number. "
   ]
  },
  {
   "cell_type": "code",
   "execution_count": 26,
   "id": "ed6208e9",
   "metadata": {},
   "outputs": [
    {
     "name": "stdout",
     "output_type": "stream",
     "text": [
      "Enter a number : 6\n",
      "Factorial of your number is : 720\n"
     ]
    }
   ],
   "source": [
    "num = int(input(\"Enter a number : \"))\n",
    "if num < 0:\n",
    "    print(\"0\")\n",
    "elif num == 0 or num == 1:\n",
    "    print(\"1\")\n",
    "else:\n",
    "    fact=1\n",
    "    while(num >1):\n",
    "        fact*=num\n",
    "        num -=1\n",
    "    print(\"Factorial of your number is :\",fact)       "
   ]
  },
  {
   "cell_type": "markdown",
   "id": "465bded5",
   "metadata": {},
   "source": [
    "### 3) Write a Python program to get the Fibonacci series of given range."
   ]
  },
  {
   "cell_type": "code",
   "execution_count": 27,
   "id": "d7b8d027",
   "metadata": {},
   "outputs": [
    {
     "name": "stdout",
     "output_type": "stream",
     "text": [
      "Enter a number : 5\n",
      "0 1 1 2 3 "
     ]
    }
   ],
   "source": [
    "n = int(input(\"Enter a number : \"))\n",
    "a=0\n",
    "b=1\n",
    "if n<0:\n",
    "    print(\"Please,enter a positive number\")\n",
    "else:\n",
    "    print(a,b,end=\" \")\n",
    "    while(n>2):\n",
    "        c=a+b\n",
    "        a=b\n",
    "        b=c\n",
    "        print(c ,end=' ')\n",
    "        n=n-1"
   ]
  },
  {
   "cell_type": "markdown",
   "id": "d102e738",
   "metadata": {},
   "source": [
    "### 4) How memory is managed in Python?"
   ]
  },
  {
   "cell_type": "raw",
   "id": "d7e26fe7",
   "metadata": {},
   "source": [
    "Memory allocation can be defined as allocating a block of space in the computer memory to a program.\n",
    "\n",
    "#Source : Google"
   ]
  },
  {
   "cell_type": "markdown",
   "id": "237c307f",
   "metadata": {},
   "source": [
    "### 5) What is the purpose continue statement in python?"
   ]
  },
  {
   "cell_type": "raw",
   "id": "5fa37bda",
   "metadata": {},
   "source": [
    "-> Continue statement is used for end current iteration and continues to next iteration."
   ]
  },
  {
   "cell_type": "markdown",
   "id": "acf1c872",
   "metadata": {},
   "source": [
    "### 6) Write python program that swap two number with temp variable and without temp variable.\n"
   ]
  },
  {
   "cell_type": "code",
   "execution_count": 29,
   "id": "68a111c5",
   "metadata": {},
   "outputs": [
    {
     "name": "stdout",
     "output_type": "stream",
     "text": [
      "First Number : 5\n",
      "Second Number : 6\n",
      "5 6\n",
      "6 5\n"
     ]
    }
   ],
   "source": [
    "# With temp variable \n",
    "a = int(input(\"First Number : \"))\n",
    "b = int(input(\"Second Number : \"))\n",
    "print(a,b)\n",
    "\n",
    "temp=b\n",
    "b=a\n",
    "a=temp\n",
    "\n",
    "print(a,b)"
   ]
  },
  {
   "cell_type": "code",
   "execution_count": 30,
   "id": "af2fc43d",
   "metadata": {},
   "outputs": [
    {
     "name": "stdout",
     "output_type": "stream",
     "text": [
      "First Number : 5\n",
      "Second Number : 6\n",
      "5 6\n",
      "6 5\n"
     ]
    }
   ],
   "source": [
    "# without temp variable\n",
    "a = int(input(\"First Number : \"))\n",
    "b = int(input(\"Second Number : \"))\n",
    "print(a,b)\n",
    "a,b=b,a\n",
    "print(a,b)"
   ]
  },
  {
   "cell_type": "markdown",
   "id": "00a0debd",
   "metadata": {},
   "source": [
    "### 7) Write a Python program to find whether a given number is even or odd, print out an appropriate message to the user."
   ]
  },
  {
   "cell_type": "code",
   "execution_count": 31,
   "id": "4abc8e7e",
   "metadata": {},
   "outputs": [
    {
     "name": "stdout",
     "output_type": "stream",
     "text": [
      "Enter a number : 56\n",
      "Entered number is even.\n"
     ]
    }
   ],
   "source": [
    "input_number = int(input(\"Enter a number : \"))\n",
    "if(input_number <= 0 ):\n",
    "    print(\"Please ,Enter a value greater than zero.\")\n",
    "else:\n",
    "    if(input_number%2 == 0):\n",
    "        print(\"Entered number is even.\")\n",
    "    else:\n",
    "        print(\"Entered number is odd.\")\n",
    "    "
   ]
  },
  {
   "cell_type": "markdown",
   "id": "dedf19f3",
   "metadata": {},
   "source": [
    "### 8) Write a Python program to test whether a passed letter is a vowel or not.\n"
   ]
  },
  {
   "cell_type": "code",
   "execution_count": 32,
   "id": "c10346d7",
   "metadata": {},
   "outputs": [
    {
     "name": "stdout",
     "output_type": "stream",
     "text": [
      "Enter a single alphabet only : y\n",
      "Passed letter is not vowel\n"
     ]
    }
   ],
   "source": [
    "chr_in = input(\"Enter a single alphabet only : \")\n",
    "if chr_in in [\"A\",\"E\",\"I\",\"O\",\"U\",'a','e','i','o','u']:\n",
    "    print(\"Passed letter is vowel\")\n",
    "else:\n",
    "    print(\"Passed letter is not vowel\")"
   ]
  },
  {
   "cell_type": "markdown",
   "id": "c129a4fa",
   "metadata": {},
   "source": [
    "### 9)  Write a Python program to sum of three given integers. However, if two values are equal sum will be zero."
   ]
  },
  {
   "cell_type": "code",
   "execution_count": 34,
   "id": "d234e5b1",
   "metadata": {},
   "outputs": [
    {
     "name": "stdout",
     "output_type": "stream",
     "text": [
      "Enter first number :5\n",
      "Enter second number :5\n",
      "Enter third number :3\n",
      "Sum is zero\n"
     ]
    }
   ],
   "source": [
    "n1= int(input(\"Enter first number :\"))\n",
    "n2= int(input(\"Enter second number :\"))\n",
    "n3= int(input(\"Enter third number :\"))\n",
    "\n",
    "sum=n1+n2+n3\n",
    "\n",
    "if (n1==n2 or n2==n3 or n1==n3):\n",
    "    print(\"Sum is zero\")\n",
    "else:\n",
    "    print(\"Sum of three number is :\",sum)"
   ]
  },
  {
   "cell_type": "markdown",
   "id": "de61cc81",
   "metadata": {},
   "source": [
    "### 10) Write a Python program that will return true if the two given integer values are equal or their sum or difference is 5."
   ]
  },
  {
   "cell_type": "code",
   "execution_count": 35,
   "id": "a19e5cc7",
   "metadata": {},
   "outputs": [
    {
     "name": "stdout",
     "output_type": "stream",
     "text": [
      "Enter a first integer number : 2\n",
      "Enter a second integer number : 3\n",
      "0\n"
     ]
    }
   ],
   "source": [
    "a1 = int(input(\"Enter a first integer number : \"))\n",
    "a2 = int(input(\"Enter a second integer number : \"))\n",
    "\n",
    "if( a1==a2 or (a1+a2 == 5) or (a1-a2 == 5)):\n",
    "    print(\"0\")\n",
    "else:\n",
    "    print(\"No any requirements are matching\")"
   ]
  },
  {
   "cell_type": "markdown",
   "id": "23189eca",
   "metadata": {},
   "source": [
    "### 11)  Write a python program to sum of the first n positive integers.\n"
   ]
  },
  {
   "cell_type": "code",
   "execution_count": 36,
   "id": "8f76ab4e",
   "metadata": {},
   "outputs": [
    {
     "name": "stdout",
     "output_type": "stream",
     "text": [
      "Enter a positive number : 4\n",
      "10\n"
     ]
    }
   ],
   "source": [
    "number_input = int(input(\"Enter a positive number : \"))\n",
    "sum=0\n",
    "while(number_input > 0):\n",
    "    sum = sum + number_input\n",
    "    number_input-= 1\n",
    "print(sum)"
   ]
  },
  {
   "cell_type": "markdown",
   "id": "764d5b4a",
   "metadata": {},
   "source": [
    "### 12)  Write a Python program to calculate the length of a string."
   ]
  },
  {
   "cell_type": "code",
   "execution_count": 37,
   "id": "9518e4bf",
   "metadata": {},
   "outputs": [
    {
     "name": "stdout",
     "output_type": "stream",
     "text": [
      "Enter a string : python\n",
      "Length of string is : 6\n"
     ]
    }
   ],
   "source": [
    "str_input = input(\"Enter a string : \")\n",
    "print(\"Length of string is :\",len(str_input))"
   ]
  },
  {
   "cell_type": "markdown",
   "id": "8bef68b5",
   "metadata": {},
   "source": [
    "### 13) Write a Python program to count the number of characters (character frequency) in a string."
   ]
  },
  {
   "cell_type": "code",
   "execution_count": 38,
   "id": "a09cf299",
   "metadata": {},
   "outputs": [
    {
     "name": "stdout",
     "output_type": "stream",
     "text": [
      "Enter a string : python is excellent \n",
      "n   2\n",
      "o   1\n",
      "    3\n",
      "s   1\n",
      "y   1\n",
      "h   1\n",
      "e   3\n",
      "l   2\n",
      "x   1\n",
      "i   1\n",
      "t   2\n",
      "c   1\n",
      "p   1\n"
     ]
    }
   ],
   "source": [
    "input_string = input(\"Enter a string : \")\n",
    "for i in set(input_string):\n",
    "    print(i , \" \" , input_string.count(i))"
   ]
  },
  {
   "cell_type": "markdown",
   "id": "124f8b83",
   "metadata": {},
   "source": [
    "### 14) What are negative indexes and why are they used? "
   ]
  },
  {
   "cell_type": "code",
   "execution_count": null,
   "id": "c694286e",
   "metadata": {},
   "outputs": [],
   "source": [
    "\"\"\"\n",
    "Negative index is a one type of indexing which is starting from -1 to infine from end of iterable;\n",
    "\n",
    "Used : We can easily use negative indexing to acces last element of iterable and also can reverse all iterable easily.\n",
    "\"\"\""
   ]
  },
  {
   "cell_type": "markdown",
   "id": "22a2a256",
   "metadata": {},
   "source": [
    "### 15) Write a Python program to count occurrences of a substring in a string.\n"
   ]
  },
  {
   "cell_type": "code",
   "execution_count": 39,
   "id": "ac93ade5",
   "metadata": {},
   "outputs": [
    {
     "name": "stdout",
     "output_type": "stream",
     "text": [
      "Enter a main string of yours : python is good for science\n",
      "Enter a sub string of yours : good\n",
      "Occurrence of substring in string is :  1\n"
     ]
    }
   ],
   "source": [
    "string_main = input(\"Enter a main string of yours : \")\n",
    "sub_string = input(\"Enter a sub string of yours : \")\n",
    "print(\"Occurrence of substring in string is : \" , string_main.count(sub_string))"
   ]
  },
  {
   "cell_type": "markdown",
   "id": "e661dfb1",
   "metadata": {},
   "source": [
    "### 16) Write a Python program to count the occurrences of each word in a given sentence."
   ]
  },
  {
   "cell_type": "code",
   "execution_count": 40,
   "id": "1f6c79ef",
   "metadata": {},
   "outputs": [
    {
     "name": "stdout",
     "output_type": "stream",
     "text": [
      "Enter your sentence : Python is a high-level, general-purpose programming language. Its design philosophy emphasizes code readability with the use of significant indentation.\n",
      "emphasizes : 1\n",
      "programming : 1\n",
      "readability : 1\n",
      "of : 1\n",
      "design : 1\n",
      "significant : 1\n",
      "language. : 1\n",
      "code : 1\n",
      "general-purpose : 1\n",
      "philosophy : 1\n",
      "Python : 1\n",
      "a : 10\n",
      "the : 1\n",
      "with : 1\n",
      "Its : 1\n",
      "is : 1\n",
      "use : 1\n",
      "indentation. : 1\n",
      "high-level, : 1\n"
     ]
    }
   ],
   "source": [
    "main_input = input(\"Enter your sentence : \")\n",
    "\n",
    "make_set = set(main_input.split(\" \")) #split : so that we can use each word for count\n",
    "\n",
    "for word in make_set:\n",
    "    print(word ,\":\", main_input.count(word))"
   ]
  },
  {
   "cell_type": "markdown",
   "id": "e840ea5c",
   "metadata": {},
   "source": [
    "### 17) Write a Python program to get a single string from two given strings, separated by a space and swap the first two characters of each string."
   ]
  },
  {
   "cell_type": "code",
   "execution_count": 41,
   "id": "b001af9e",
   "metadata": {},
   "outputs": [
    {
     "name": "stdout",
     "output_type": "stream",
     "text": [
      "Enter a first string : python\n",
      "Enter a second string :java\n",
      "Your single string is : jathon pyva\n"
     ]
    }
   ],
   "source": [
    "str1 = input(\"Enter a first string : \")\n",
    "str2 = input(\"Enter a second string :\")\n",
    "\n",
    "str1 , str2 = str2[0:2] +str1[2:], str1[0:2]+str2[2:]\n",
    "\n",
    "new_string = \" \".join([str1,str2])\n",
    "\n",
    "print(\"Your single string is :\",new_string)"
   ]
  },
  {
   "cell_type": "markdown",
   "id": "f6b0586d",
   "metadata": {},
   "source": [
    "### 18) Write a Python program to add 'ing' at the end of a given string (length should be at least 3). If the given string already ends with 'ing' then add 'ly' instead if the string length of the given string is less than 3, leave it unchanged."
   ]
  },
  {
   "cell_type": "code",
   "execution_count": 42,
   "id": "893b8a6b",
   "metadata": {},
   "outputs": [
    {
     "name": "stdout",
     "output_type": "stream",
     "text": [
      "Enter your string : i am learning\n",
      "i am learnly\n"
     ]
    }
   ],
   "source": [
    "input_string = input(\"Enter your string : \")\n",
    "lenth = len(input_string)\n",
    "\n",
    "if lenth >=3:\n",
    "    if input_string.endswith('ing'):\n",
    "        input_string=input_string.removesuffix('ing')\n",
    "        input_string += 'ly'\n",
    "    else:\n",
    "        input_string+='ing'\n",
    "print(input_string)\n",
    "    "
   ]
  },
  {
   "cell_type": "markdown",
   "id": "732e232b",
   "metadata": {},
   "source": [
    "### 19) Write a Python program to find the first appearance of the substring 'not' and 'poor' from a given string, if 'not' follows the 'poor', replace the whole 'not'...'poor' substring with 'good'. Return the resulting string.\n"
   ]
  },
  {
   "cell_type": "code",
   "execution_count": 43,
   "id": "a05c77df",
   "metadata": {},
   "outputs": [
    {
     "name": "stdout",
     "output_type": "stream",
     "text": [
      "Enter your string : i am poor and not happy as well\n",
      "not-index : 14 \n",
      "poor-index : 5\n",
      "New created string is :  i am good happy as well\n"
     ]
    }
   ],
   "source": [
    "input_data  = input(\"Enter your string : \")\n",
    "\n",
    "index_not = input_data.find('not')\n",
    "index_poor = input_data.find('poor')\n",
    "\n",
    "print(\"not-index :\",index_not ,\"\\npoor-index :\",index_poor)\n",
    "\n",
    "if  index_not !=-1 and index_poor !=-1 and index_not > index_poor:\n",
    "    \n",
    "    input_data = input_data[:index_poor] +\"good \" + input_data[index_not+4:]\n",
    "        \n",
    "print(\"New created string is : \",input_data)"
   ]
  },
  {
   "cell_type": "markdown",
   "id": "b754833d",
   "metadata": {},
   "source": [
    "### 20) Write a Python function that takes a list of words and returns the length of the longest one."
   ]
  },
  {
   "cell_type": "code",
   "execution_count": 44,
   "id": "0f1f37bf",
   "metadata": {},
   "outputs": [
    {
     "name": "stdout",
     "output_type": "stream",
     "text": [
      "Enter a list of words :- python is our main language \n",
      "Lenght of the longest one in list :  8\n"
     ]
    }
   ],
   "source": [
    "input_list = input(\"Enter a list of words :- \")\n",
    "list_words = input_list.split()\n",
    "longest_word = 0\n",
    "for word in  list_words:\n",
    "    word_length = len(word)\n",
    "    if word_length > longest_word:\n",
    "            longest_word = word_length\n",
    "print(\"Lenght of the longest one in list : \",longest_word)\n"
   ]
  },
  {
   "cell_type": "markdown",
   "id": "fc0629ab",
   "metadata": {},
   "source": [
    "### 21) Write a Python function to reverses a string if its length is a multiple of 4."
   ]
  },
  {
   "cell_type": "code",
   "execution_count": 45,
   "id": "ec525ecd",
   "metadata": {},
   "outputs": [
    {
     "name": "stdout",
     "output_type": "stream",
     "text": [
      "Enter a string : language \n",
      "Your string is not multiple of 4\n"
     ]
    }
   ],
   "source": [
    "take_string = input(\"Enter a string : \")\n",
    "if len(take_string) % 4 == 0:\n",
    "    print(take_string[::-1])\n",
    "else:\n",
    "    print(\"Your string is not multiple of 4\")"
   ]
  },
  {
   "cell_type": "markdown",
   "id": "0000a37d",
   "metadata": {},
   "source": [
    "### 22) Write a Python program to get a string made of the first 2 and the last 2 chars from a given a string. If the string length is less than 2, return instead of the empty string.\n"
   ]
  },
  {
   "cell_type": "code",
   "execution_count": 47,
   "id": "b37d18c1",
   "metadata": {},
   "outputs": [
    {
     "name": "stdout",
     "output_type": "stream",
     "text": [
      "Enter a string : python\n",
      "pyon\n"
     ]
    }
   ],
   "source": [
    "input_data = input(\"Enter a string : \")\n",
    "get_string = \"\"\n",
    "if len(input_data) >= 2 :\n",
    "    get_string = input_data[:2] + input_data[-2:]\n",
    "else:\n",
    "    print(\"Your string is empty\")\n",
    "print(get_string)"
   ]
  },
  {
   "cell_type": "markdown",
   "id": "fb274af3",
   "metadata": {},
   "source": [
    "### 23) Write a Python function to insert a string in the middle of a string.\n"
   ]
  },
  {
   "cell_type": "code",
   "execution_count": 48,
   "id": "69078936",
   "metadata": {},
   "outputs": [
    {
     "name": "stdout",
     "output_type": "stream",
     "text": [
      "Enter a string :python\n",
      "Enter a mid string you want to add :lan\n",
      "pythlanon\n"
     ]
    }
   ],
   "source": [
    "main_string = input(\"Enter a string :\")\n",
    "add_string = input(\"Enter a mid string you want to add :\")\n",
    "\n",
    "half = len(main_string)//2 +1\n",
    "\n",
    "neew_string = main_string[:half] + add_string + main_string[half:]\n",
    "\n",
    "print(neew_string)"
   ]
  }
 ],
 "metadata": {
  "kernelspec": {
   "display_name": "Python 3 (ipykernel)",
   "language": "python",
   "name": "python3"
  },
  "language_info": {
   "codemirror_mode": {
    "name": "ipython",
    "version": 3
   },
   "file_extension": ".py",
   "mimetype": "text/x-python",
   "name": "python",
   "nbconvert_exporter": "python",
   "pygments_lexer": "ipython3",
   "version": "3.9.12"
  }
 },
 "nbformat": 4,
 "nbformat_minor": 5
}
