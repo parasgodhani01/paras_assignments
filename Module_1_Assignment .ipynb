{
 "cells": [
  {
   "cell_type": "markdown",
   "id": "f24bf2b6",
   "metadata": {},
   "source": [
    "### 1) What is software?"
   ]
  },
  {
   "cell_type": "raw",
   "id": "d2d19f0b",
   "metadata": {},
   "source": [
    "-> Software is a collection of programs which are providing specific features and functionalities."
   ]
  },
  {
   "cell_type": "markdown",
   "id": "ce174960",
   "metadata": {},
   "source": [
    "### 2) What are the types of application ?"
   ]
  },
  {
   "cell_type": "raw",
   "id": "8afe1562",
   "metadata": {},
   "source": [
    "-> Two Types :\n",
    "      1) System Software\n",
    "      2) Application Software"
   ]
  },
  {
   "cell_type": "markdown",
   "id": "410d9b57",
   "metadata": {},
   "source": [
    "### 3) What is programming ?"
   ]
  },
  {
   "cell_type": "raw",
   "id": "51c62458",
   "metadata": {},
   "source": [
    "-> Computer programming is the process of particular computation which is a set of instructions that guide machine how to perform task."
   ]
  },
  {
   "cell_type": "markdown",
   "id": "1d5b943e",
   "metadata": {},
   "source": [
    "### 4) What is python ?"
   ]
  },
  {
   "cell_type": "raw",
   "id": "87f29d7a",
   "metadata": {},
   "source": [
    "-> Python is a computer programming language which is useful to make every kind of computer softwrae."
   ]
  }
 ],
 "metadata": {
  "kernelspec": {
   "display_name": "Python 3 (ipykernel)",
   "language": "python",
   "name": "python3"
  },
  "language_info": {
   "codemirror_mode": {
    "name": "ipython",
    "version": 3
   },
   "file_extension": ".py",
   "mimetype": "text/x-python",
   "name": "python",
   "nbconvert_exporter": "python",
   "pygments_lexer": "ipython3",
   "version": "3.9.12"
  }
 },
 "nbformat": 4,
 "nbformat_minor": 5
}
